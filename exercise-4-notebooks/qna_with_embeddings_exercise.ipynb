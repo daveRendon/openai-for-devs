# qna_with_embeddings_exercise.ipynb

